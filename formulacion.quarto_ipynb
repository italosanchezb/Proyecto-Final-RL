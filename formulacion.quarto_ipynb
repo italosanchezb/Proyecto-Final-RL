{
  "cells": [
    {
      "cell_type": "markdown",
      "metadata": {},
      "source": [
        "## Formulación\n",
        "El Proceso de Decisión de Markov se compone de los siguientes elementos:\n",
        "\n",
        "* El conjunto de estados estará conformado por las 3 divisiones del campo $C_1,C_2,C_3$. \n"
      ],
      "id": "d4848a4c"
    },
    {
      "cell_type": "code",
      "metadata": {},
      "source": [
        "import numpy as np \n",
        "import pandas as pd\n",
        "import matplotlib.pyplot as plt \n",
        "from matplotlib.colors import to_rgba\n",
        "from urllib.request import urlopen\n",
        "from mplsoccer import Pitch, FontManager, add_image\n",
        "from PIL import Image\n",
        "\n",
        "pitch = Pitch(line_color='black',linewidth=1)\n",
        "fig, ax = pitch.draw()\n",
        "pitch.lines(40,0,40,80,color = 'black', linewidth = 1, ax=ax)\n",
        "\n",
        "pitch.lines(80,0,80,80,color = 'black', linewidth = 1, ax=ax)\n",
        "\n",
        "pitch.annotate(text='$C_1$',xytext=(10,10),xy=(84,45),ax=ax)\n",
        "pitch.annotate(text='$C_2$',xytext=(50,10),xy=(84,45),ax=ax)\n",
        "pitch.annotate(text='$C_3$',xytext=(90,10),xy=(84,45),ax=ax)"
      ],
      "id": "9a8d3dda",
      "execution_count": null,
      "outputs": []
    },
    {
      "cell_type": "markdown",
      "metadata": {},
      "source": [
        "Además se agregan tres estados absorbentes:\n",
        "    +  $L_p =$ pérdida de posesión del balón.\n",
        "    +  $nG =$ realizar un tiro y que no termine en gol.\n",
        "    +  $G =$ realizar un tiro y que termine en gol.\n",
        "     De esta forma el conjunto de estados $\\mathcal{S}$ queda como\n",
        "   \n",
        "    $$\n",
        "    \\mathcal{S}=\\{C_1,C_2,C_3,L_p,nG,G\\}\n",
        "    $$\n",
        "\n",
        "* El conjunto de acciones admisibles se considerarán 3 acciones que serán\n",
        "    + $t$ = tiro\n",
        "    + $p$ = pase\n",
        "    + $r$ = regate\n",
        "\n",
        "    De esta forma el conjunto de acciones queda como\n",
        "            $$\\mathcal{A} = \\{t,p,r\\}$$\n",
        "        \n",
        "*  Para las de transiciones haremos uso de las probabilidades de transición definidas de la siguiente forma:\n",
        "    $$\n",
        "    P:\\mathcal{S}\\times\\mathcal{A}\\times\\mathcal{S} \\to [0,1]\n",
        "    $$\n",
        "\n",
        "    Que se interpreta como la probabilidad de estar en un estado $S_i$ realizar una acción $a_k$ y terminar en un estado $S_j$. Notemos que se aceptan los casos cuando $i=j$ y más adelante se mostrará que algunas probabilidades serán 0.\n",
        "* La función de recompensa $R:\\mathcal{S}\\times \\mathcal{A}\\times \\mathcal{S}\\to[0,1]$, será\n",
        "    $$\n",
        "    R(S_i,a_k,S_j)=\\left\\{\\begin{array}{ccc}\n",
        "                 1 & \\text{si} & S_j=G  \\\\\n",
        "                 0 & o.c. &\n",
        "            \\end{array}\\right.\n",
        "    $$\n"
      ],
      "id": "05204b95"
    }
  ],
  "metadata": {
    "kernelspec": {
      "name": "python3",
      "language": "python",
      "display_name": "Python 3 (ipykernel)",
      "path": "C:\\Users\\josei\\AppData\\Local\\Programs\\Python\\Python312\\share\\jupyter\\kernels\\python3"
    }
  },
  "nbformat": 4,
  "nbformat_minor": 5
}